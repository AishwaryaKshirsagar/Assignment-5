{
  "nbformat": 4,
  "nbformat_minor": 0,
  "metadata": {
    "colab": {
      "name": "Assignment5.ipynb",
      "provenance": [],
      "authorship_tag": "ABX9TyOjL/Hl3bsau0JoqneVyUGZ",
      "include_colab_link": true
    },
    "kernelspec": {
      "name": "python3",
      "display_name": "Python 3"
    },
    "language_info": {
      "name": "python"
    }
  },
  "cells": [
    {
      "cell_type": "markdown",
      "metadata": {
        "id": "view-in-github",
        "colab_type": "text"
      },
      "source": [
        "<a href=\"https://colab.research.google.com/github/AishwaryaKshirsagar/Assignment-5/blob/main/Assignment5.ipynb\" target=\"_parent\"><img src=\"https://colab.research.google.com/assets/colab-badge.svg\" alt=\"Open In Colab\"/></a>"
      ]
    },
    {
      "cell_type": "markdown",
      "metadata": {
        "id": "vxBphINTp05r"
      },
      "source": [
        "Task 5\n",
        "\n",
        "SIRSS2228\n",
        "\n",
        "Aishwarya Kshirsagar"
      ]
    },
    {
      "cell_type": "code",
      "metadata": {
        "id": "eeSRakF7bOYe"
      },
      "source": [
        "# Q1. Given a list of integers, write a function to return the sum of all prime numbers in that list.\n",
        "# Q2. Given a list of integers, write a function to check whether the list is strictly increasing or not.\n",
        "# Q3. Write a function to check whether a given list is expanding or not (the difference between adjacent elements should keep on increasing).\n",
        "# Q4. Write a function to calculate all permutations of a given string. (Without using itertools)"
      ],
      "execution_count": null,
      "outputs": []
    },
    {
      "cell_type": "code",
      "metadata": {
        "id": "glBZvnsbbZFK",
        "colab": {
          "base_uri": "https://localhost:8080/"
        },
        "outputId": "041f0022-1bc6-499c-8f68-05a1d925d4ae"
      },
      "source": [
        "# Q1. Given a list of integers, write a function to return the sum of all prime numbers in that list.\n",
        "\n",
        "numbers=input(\"\").split(' ')\n",
        "sum=0\n",
        "for n in numbers:\n",
        "    n=int(n)\n",
        "    isPrime=True\n",
        "    if n > 1:\n",
        "       \n",
        "        for i in range(2, n):\n",
        "            if (n % i) == 0:\n",
        "                isPrime=False\n",
        "                break\n",
        "        if isPrime:\n",
        "            sum+=n\n",
        "print(int(sum))\n"
      ],
      "execution_count": 20,
      "outputs": [
        {
          "output_type": "stream",
          "name": "stdout",
          "text": [
            "1 13 7 5 44 77\n",
            "25\n"
          ]
        }
      ]
    },
    {
      "cell_type": "code",
      "metadata": {
        "id": "TjdyLKw8s_C_",
        "colab": {
          "base_uri": "https://localhost:8080/"
        },
        "outputId": "6f86781c-dade-4730-af9b-fe2357d4d39b"
      },
      "source": [
        "# Q2. Given a list of integers, write a function to check whether the list is strictly increasing or not.\n",
        "lst = [12,13,45,66,87,34]\n",
        "def check_list(x):\n",
        "    check = True\n",
        "    for i in range(1,len(lst)):\n",
        "        if lst[i-1] > lst[i]:\n",
        "            print('Given list is not strictly increasing')\n",
        "            check = False\n",
        "    if check:\n",
        "        print('Given list is strictly increasing')\n",
        "a = check_list(lst)\n",
        "a"
      ],
      "execution_count": 21,
      "outputs": [
        {
          "output_type": "stream",
          "name": "stdout",
          "text": [
            "Given list is not strictly increasing\n"
          ]
        }
      ]
    },
    {
      "cell_type": "code",
      "metadata": {
        "id": "hpMN9mJKs_42",
        "colab": {
          "base_uri": "https://localhost:8080/"
        },
        "outputId": "871cbaeb-a81b-4cec-aa2c-479f76abbc81"
      },
      "source": [
        "# Q3. Write a function to check whether a given list is expanding or not (the difference between adjacent elements should keep on increasing).\n",
        "def expand(l):\n",
        "    dif = abs(l[1] - l[0])\n",
        "    for i in range(1, len(l)-1):\n",
        "        temp = abs(l[i+1] - l[i])\n",
        "        if temp < dif:\n",
        "            return False\n",
        "        else:\n",
        "            diff = temp\n",
        "    return True\n",
        "\n",
        "print(expand([1,3,7,2,-3]))\n",
        "print(expand([9,3,8,0]))"
      ],
      "execution_count": 22,
      "outputs": [
        {
          "output_type": "stream",
          "name": "stdout",
          "text": [
            "True\n",
            "False\n"
          ]
        }
      ]
    },
    {
      "cell_type": "code",
      "metadata": {
        "id": "kTmTIOCjtAEB",
        "colab": {
          "base_uri": "https://localhost:8080/"
        },
        "outputId": "109d591f-3ee8-42a1-b2a4-b047bc8f075a"
      },
      "source": [
        "# Q4. Write a function to calculate all permutations of a given string. (Without using itertools)\n",
        "def permutation(x):\n",
        "    if len(x)==1:\n",
        "        return [x]\n",
        "    perm = permutation(x[1:])\n",
        "    first_x = x[0]\n",
        "    rem_slt = []\n",
        "    for i in perm:\n",
        "        for j in range(len(i)+1):\n",
        "            rem_slt.append(i[:j]+first_x+i[j:])\n",
        "    return rem_slt\n",
        "str = input('Enter a string: ')\n",
        "permutation(str)"
      ],
      "execution_count": 23,
      "outputs": [
        {
          "name": "stdout",
          "output_type": "stream",
          "text": [
            "Enter a string: Aish\n"
          ]
        },
        {
          "output_type": "execute_result",
          "data": {
            "text/plain": [
              "['Aish',\n",
              " 'iAsh',\n",
              " 'isAh',\n",
              " 'ishA',\n",
              " 'Asih',\n",
              " 'sAih',\n",
              " 'siAh',\n",
              " 'sihA',\n",
              " 'Ashi',\n",
              " 'sAhi',\n",
              " 'shAi',\n",
              " 'shiA',\n",
              " 'Aihs',\n",
              " 'iAhs',\n",
              " 'ihAs',\n",
              " 'ihsA',\n",
              " 'Ahis',\n",
              " 'hAis',\n",
              " 'hiAs',\n",
              " 'hisA',\n",
              " 'Ahsi',\n",
              " 'hAsi',\n",
              " 'hsAi',\n",
              " 'hsiA']"
            ]
          },
          "metadata": {},
          "execution_count": 23
        }
      ]
    },
    {
      "cell_type": "code",
      "metadata": {
        "id": "NDYaqkn1a0Yc"
      },
      "source": [
        ""
      ],
      "execution_count": null,
      "outputs": []
    }
  ]
}